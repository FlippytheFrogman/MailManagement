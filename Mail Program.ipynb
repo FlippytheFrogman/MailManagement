{
 "cells": [
  {
   "cell_type": "code",
   "execution_count": 2,
   "metadata": {
    "collapsed": false
   },
   "outputs": [],
   "source": [
    "import imaplib\n",
    "import email.header\n",
    "import time\n",
    "import json\n",
    "\n",
    "def file_len(fname):\n",
    "    i = 0\n",
    "    try :\n",
    "        with open(fname) as f:\n",
    "            for i, l in enumerate(f):\n",
    "                pass\n",
    "    except IOError:\n",
    "        print \"IOError\"\n",
    "        return 0\n",
    "    return i + 1\n",
    "\n",
    "iFile = open(creds, 'r')\n",
    "x = json.load(iFile)\n",
    "iFile.close()\n",
    "print 'Phase 1 done.'"
   ]
  },
  {
   "cell_type": "code",
   "execution_count": 3,
   "metadata": {
    "collapsed": false
   },
   "outputs": [],
   "source": [
    "file = 'newestsincebeginningyear3.txt'\n",
    "print file\n",
    "f = open(file, 'w')\n",
    "box = imaplib.IMAP4_SSL('imap.mail.yahoo.com', 993)\n",
    "print box.login(x[1], x[0]) \n",
    "typ, data = box.list()\n",
    "print box.select('inbox')\n",
    "typ, data = box.search(None, '(SINCE \"01-Jan-2016\")')\n",
    "print (\"box.search \" + typ)\n",
    "ids = data[0]\n",
    "id_list = ids.split()\n",
    "print(\"emails total \", len(id_list))\n",
    "#print(\"print set \", id_list)\n",
    "id_list = list(reversed(id_list))\n",
    "print(\"emails total since beginning of year \", len(id_list))\n",
    "\n",
    "start = file_len(file) + 1\n",
    "\n",
    "#print(\"print set r \", id_list)\n",
    "print(\"start at \" + str(start))\n",
    "id_list = id_list[start:]\n",
    "print(\"emails total after start subtracted \", len(id_list))\n",
    "\n",
    "#print(\"print subset \", id_list)\n",
    "print(\"Since the beginning of the year\", len(id_list))\n",
    "for index in list(reversed(id_list)):\n",
    "    #i =  int( id_list[int(index)])\n",
    "    i = index\n",
    "    #time.sleep(5)\n",
    "    typ, data = box.fetch( i, '(BODY.PEEK[HEADER])') # '(RFC822)' )\n",
    "    #print i\n",
    "    for response_part in data:\n",
    "      if isinstance(response_part, tuple):\n",
    "        msg = email.message_from_string(response_part[1])\n",
    "        #varSubject = msg['subject']\n",
    "        varFrom = msg['from']\n",
    "        #varDate = msg['date']\n",
    "        #remove the brackets around the sender email address\n",
    "        varFrom = varFrom.replace('<', '')\n",
    "        varFrom = varFrom.replace('>', '')\n",
    "    #add ellipsis (...) if subject length is greater than 35 characters\n",
    "    #if len( varSubject ) > 100:\n",
    "    #   varSubject = varSubject[0:100] + '...'\n",
    "        s = varFrom.split()[-1]\n",
    "        print s\n",
    "        f.write(varFrom.split()[-1] + \"\\n\") #varSubject\n",
    "f.close()\n",
    "box.logout()\n",
    "    "
   ]
  },
  {
   "cell_type": "code",
   "execution_count": null,
   "metadata": {
    "collapsed": false
   },
   "outputs": [],
   "source": []
  },
  {
   "cell_type": "code",
   "execution_count": null,
   "metadata": {
    "collapsed": true
   },
   "outputs": [],
   "source": []
  },
  {
   "cell_type": "code",
   "execution_count": 11,
   "metadata": {
    "collapsed": false
   },
   "outputs": [],
   "source": [
    "def file_len(fname):\n",
    "    with open(fname) as f:\n",
    "        for i, l in enumerate(f):\n",
    "            pass\n",
    "    return i + 1\n",
    "file_len(\"newestsincebeginningyear2.txt\")"
   ]
  },
  {
   "cell_type": "code",
   "execution_count": null,
   "metadata": {
    "collapsed": false
   },
   "outputs": [],
   "source": [
    "pwd()"
   ]
  },
  {
   "cell_type": "code",
   "execution_count": null,
   "metadata": {
    "collapsed": false
   },
   "outputs": [],
   "source": [
    "start=file_len('workfile2.txt')"
   ]
  },
  {
   "cell_type": "code",
   "execution_count": null,
   "metadata": {
    "collapsed": false
   },
   "outputs": [],
   "source": [
    "start\n",
    "\n"
   ]
  },
  {
   "cell_type": "code",
   "execution_count": null,
   "metadata": {
    "collapsed": false
   },
   "outputs": [],
   "source": [
    "id_list[start:]\n"
   ]
  },
  {
   "cell_type": "code",
   "execution_count": null,
   "metadata": {
    "collapsed": true
   },
   "outputs": [],
   "source": []
  }
 ],
 "metadata": {
  "git": {
   "suppress_outputs": true
  },
  "kernelspec": {
   "display_name": "Python 2",
   "language": "python",
   "name": "python2"
  },
  "language_info": {
   "codemirror_mode": {
    "name": "ipython",
    "version": 2
   },
   "file_extension": ".py",
   "mimetype": "text/x-python",
   "name": "python",
   "nbconvert_exporter": "python",
   "pygments_lexer": "ipython2",
   "version": "2.7.11"
  }
 },
 "nbformat": 4,
 "nbformat_minor": 0
}